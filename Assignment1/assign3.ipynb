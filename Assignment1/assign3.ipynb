{
 "cells": [
  {
   "cell_type": "markdown",
   "metadata": {},
   "source": [
    "# Assignment 3\n",
    "\n",
    "Στόχος μας είναι να προβλέψουμε την τιμή (Χ,6) του User X για το Movie 6.\n",
    "\n",
    "<b>Cosine similarity imported from scikitlearn</b>\n",
    "[Click here for more info](https://scikit-learn.org/stable/modules/generated/sklearn.metrics.pairwise.cosine_similarity.html)  \n"
   ]
  },
  {
   "cell_type": "code",
   "execution_count": 1,
   "metadata": {},
   "outputs": [],
   "source": [
    "import pandas as pd\n",
    "import numpy as np\n",
    "import matplotlib.pyplot as plt\n",
    "from sklearn.metrics.pairwise import cosine_similarity"
   ]
  },
  {
   "cell_type": "code",
   "execution_count": 2,
   "metadata": {
    "scrolled": false
   },
   "outputs": [
    {
     "data": {
      "text/html": [
       "<div>\n",
       "<style scoped>\n",
       "    .dataframe tbody tr th:only-of-type {\n",
       "        vertical-align: middle;\n",
       "    }\n",
       "\n",
       "    .dataframe tbody tr th {\n",
       "        vertical-align: top;\n",
       "    }\n",
       "\n",
       "    .dataframe thead th {\n",
       "        text-align: right;\n",
       "    }\n",
       "</style>\n",
       "<table border=\"1\" class=\"dataframe\">\n",
       "  <thead>\n",
       "    <tr style=\"text-align: right;\">\n",
       "      <th></th>\n",
       "      <th>Movie1</th>\n",
       "      <th>Movie2</th>\n",
       "      <th>Movie3</th>\n",
       "      <th>Movie4</th>\n",
       "      <th>Movie5</th>\n",
       "      <th>Movie6</th>\n",
       "    </tr>\n",
       "    <tr>\n",
       "      <th>User</th>\n",
       "      <th></th>\n",
       "      <th></th>\n",
       "      <th></th>\n",
       "      <th></th>\n",
       "      <th></th>\n",
       "      <th></th>\n",
       "    </tr>\n",
       "  </thead>\n",
       "  <tbody>\n",
       "    <tr>\n",
       "      <td>X</td>\n",
       "      <td>5</td>\n",
       "      <td>3.0</td>\n",
       "      <td>NaN</td>\n",
       "      <td>1.0</td>\n",
       "      <td>NaN</td>\n",
       "      <td>NaN</td>\n",
       "    </tr>\n",
       "    <tr>\n",
       "      <td>Y</td>\n",
       "      <td>4</td>\n",
       "      <td>2.0</td>\n",
       "      <td>1.0</td>\n",
       "      <td>NaN</td>\n",
       "      <td>NaN</td>\n",
       "      <td>1.0</td>\n",
       "    </tr>\n",
       "    <tr>\n",
       "      <td>Z</td>\n",
       "      <td>3</td>\n",
       "      <td>NaN</td>\n",
       "      <td>NaN</td>\n",
       "      <td>1.0</td>\n",
       "      <td>3.0</td>\n",
       "      <td>3.0</td>\n",
       "    </tr>\n",
       "    <tr>\n",
       "      <td>W</td>\n",
       "      <td>2</td>\n",
       "      <td>5.0</td>\n",
       "      <td>1.0</td>\n",
       "      <td>5.0</td>\n",
       "      <td>3.0</td>\n",
       "      <td>4.0</td>\n",
       "    </tr>\n",
       "  </tbody>\n",
       "</table>\n",
       "</div>"
      ],
      "text/plain": [
       "      Movie1  Movie2  Movie3  Movie4  Movie5  Movie6\n",
       "User                                                \n",
       "X          5     3.0     NaN     1.0     NaN     NaN\n",
       "Y          4     2.0     1.0     NaN     NaN     1.0\n",
       "Z          3     NaN     NaN     1.0     3.0     3.0\n",
       "W          2     5.0     1.0     5.0     3.0     4.0"
      ]
     },
     "execution_count": 2,
     "metadata": {},
     "output_type": "execute_result"
    }
   ],
   "source": [
    "# Setting 'User' col as an index \n",
    "data = pd.read_csv(\"ask3.csv\", index_col='User')\n",
    "df = pd.DataFrame(data)\n",
    "df"
   ]
  },
  {
   "cell_type": "markdown",
   "metadata": {},
   "source": [
    "## Cosine Similarity between Users\n",
    "In order to use cosine similarity we have to replace NaN values with 0's\n",
    "\n",
    "We can see that User X is pretty much identical to User Y (0.93697496 ) and then User W (0.56694671)  \n",
    "<b>Topk(u) = {Y:0.93697496, W:0.51110125}</b>"
   ]
  },
  {
   "cell_type": "code",
   "execution_count": 3,
   "metadata": {},
   "outputs": [
    {
     "name": "stdout",
     "output_type": "stream",
     "text": [
      "[[1.         0.93697496 0.51110125 0.56694671]\n",
      " [0.93697496 1.         0.60436722 0.54824099]\n",
      " [0.51110125 0.60436722 1.         0.6761234 ]\n",
      " [0.56694671 0.54824099 0.6761234  1.        ]]\n"
     ]
    }
   ],
   "source": [
    "print(cosine_similarity(df.fillna(0),df.fillna(0)))"
   ]
  },
  {
   "cell_type": "markdown",
   "metadata": {},
   "source": [
    "<b>Estimating User X ratings based on ratings of 𝑇𝑜𝑝𝐾(u) using some aggregation function.</b>\n",
    "$$\\widehat{r_{u,i}} =\\frac{1}{z} \\sum_{v\\epsilon Topk(u)}sim(u,v)r_{v,i}$$\n",
    "$$z = \\sum_{v\\epsilon Topk(u)}sim(u,v)$$\n",
    "\n",
    "<i>Answer:</i>$$\\widehat{r_{X,Movie6}} = 2.130936646454466$$"
   ]
  },
  {
   "cell_type": "code",
   "execution_count": 4,
   "metadata": {},
   "outputs": [
    {
     "name": "stdout",
     "output_type": "stream",
     "text": [
      "Estimated rating for User X-Movie 6: 2.130936646454466\n"
     ]
    }
   ],
   "source": [
    "simx_y = 0.93697496\n",
    "simx_w = 0.56694671\n",
    "\n",
    "z = simx_y + simx_w\n",
    "sumd = (df.loc['Y'][-1] * simx_y) + (df.loc['W'][-1] * simx_w)\n",
    "\n",
    "rating_x6 = sumd/z\n",
    "\n",
    "print(\"Estimated rating for User X-Movie 6: \"+ str(rating_x6))"
   ]
  },
  {
   "cell_type": "markdown",
   "metadata": {},
   "source": [
    "## Normalized cosine similarity  \n",
    "is done by subtracting the mean before computing the cosine formula."
   ]
  },
  {
   "cell_type": "code",
   "execution_count": 5,
   "metadata": {},
   "outputs": [
    {
     "data": {
      "text/html": [
       "<div>\n",
       "<style scoped>\n",
       "    .dataframe tbody tr th:only-of-type {\n",
       "        vertical-align: middle;\n",
       "    }\n",
       "\n",
       "    .dataframe tbody tr th {\n",
       "        vertical-align: top;\n",
       "    }\n",
       "\n",
       "    .dataframe thead th {\n",
       "        text-align: right;\n",
       "    }\n",
       "</style>\n",
       "<table border=\"1\" class=\"dataframe\">\n",
       "  <thead>\n",
       "    <tr style=\"text-align: right;\">\n",
       "      <th></th>\n",
       "      <th>Movie1</th>\n",
       "      <th>Movie2</th>\n",
       "      <th>Movie3</th>\n",
       "      <th>Movie4</th>\n",
       "      <th>Movie5</th>\n",
       "      <th>Movie6</th>\n",
       "    </tr>\n",
       "    <tr>\n",
       "      <th>User</th>\n",
       "      <th></th>\n",
       "      <th></th>\n",
       "      <th></th>\n",
       "      <th></th>\n",
       "      <th></th>\n",
       "      <th></th>\n",
       "    </tr>\n",
       "  </thead>\n",
       "  <tbody>\n",
       "    <tr>\n",
       "      <td>X</td>\n",
       "      <td>2.000000</td>\n",
       "      <td>0.000000</td>\n",
       "      <td>NaN</td>\n",
       "      <td>-2.000000</td>\n",
       "      <td>NaN</td>\n",
       "      <td>NaN</td>\n",
       "    </tr>\n",
       "    <tr>\n",
       "      <td>Y</td>\n",
       "      <td>2.000000</td>\n",
       "      <td>0.000000</td>\n",
       "      <td>-1.000000</td>\n",
       "      <td>NaN</td>\n",
       "      <td>NaN</td>\n",
       "      <td>-1.000000</td>\n",
       "    </tr>\n",
       "    <tr>\n",
       "      <td>Z</td>\n",
       "      <td>0.500000</td>\n",
       "      <td>NaN</td>\n",
       "      <td>NaN</td>\n",
       "      <td>-1.500000</td>\n",
       "      <td>0.500000</td>\n",
       "      <td>0.500000</td>\n",
       "    </tr>\n",
       "    <tr>\n",
       "      <td>W</td>\n",
       "      <td>-1.333333</td>\n",
       "      <td>1.666667</td>\n",
       "      <td>-2.333333</td>\n",
       "      <td>1.666667</td>\n",
       "      <td>-0.333333</td>\n",
       "      <td>0.666667</td>\n",
       "    </tr>\n",
       "  </tbody>\n",
       "</table>\n",
       "</div>"
      ],
      "text/plain": [
       "        Movie1    Movie2    Movie3    Movie4    Movie5    Movie6\n",
       "User                                                            \n",
       "X     2.000000  0.000000       NaN -2.000000       NaN       NaN\n",
       "Y     2.000000  0.000000 -1.000000       NaN       NaN -1.000000\n",
       "Z     0.500000       NaN       NaN -1.500000  0.500000  0.500000\n",
       "W    -1.333333  1.666667 -2.333333  1.666667 -0.333333  0.666667"
      ]
     },
     "execution_count": 5,
     "metadata": {},
     "output_type": "execute_result"
    }
   ],
   "source": [
    "#Calculating mean for every user and subtracting (via lambda function)\n",
    "def f():\n",
    "    modf = df.copy()\n",
    "    for i,r in df.iterrows():\n",
    "        mean = r.sum()/r.count()\n",
    "        modf.loc[i] = r.apply(lambda x: x-mean)\n",
    "    return modf\n",
    "\n",
    "df1 = f()\n",
    "\n",
    "df1"
   ]
  },
  {
   "cell_type": "markdown",
   "metadata": {},
   "source": [
    "After subtracting the mean rating per user and then compute Cosine,  \n",
    "TopK(Users) are now Z and Y.  \n",
    "<b>topK(U) = {Z:0.81649658, Y:0.57735027}</b>"
   ]
  },
  {
   "cell_type": "code",
   "execution_count": 6,
   "metadata": {},
   "outputs": [
    {
     "name": "stdout",
     "output_type": "stream",
     "text": [
      "[[ 1.          0.57735027  0.81649658 -0.5809475 ]\n",
      " [ 0.57735027  1.          0.11785113 -0.1118034 ]\n",
      " [ 0.81649658  0.11785113  1.         -0.47434165]\n",
      " [-0.5809475  -0.1118034  -0.47434165  1.        ]]\n"
     ]
    }
   ],
   "source": [
    "print(cosine_similarity(df1.fillna(0),df1.fillna(0)))"
   ]
  },
  {
   "cell_type": "markdown",
   "metadata": {},
   "source": [
    "<b>Deviations:</b>  \n",
    "$$\\widehat{r_{u,i}} =\\overline{r_{u}} + \\frac{1}{z} \\sum_{v\\epsilon Topk(u)}sim(u,v)(r_{v,i} - \\overline{r_{v}})$$  \n",
    "\n",
    "<i>Answer:</i>  \n",
    "$$\\widehat{r_{X,Movie6}} = 2.8786796555159557$$"
   ]
  },
  {
   "cell_type": "code",
   "execution_count": 7,
   "metadata": {},
   "outputs": [
    {
     "name": "stdout",
     "output_type": "stream",
     "text": [
      "Deviation = -0.1213203444840443\n",
      "Estimated rating for UserX-Movie6 with deviations: 2.8786796555159557\n"
     ]
    }
   ],
   "source": [
    "simx_y = 0.57735027\n",
    "simx_z = 0.81649658\n",
    "\n",
    "z = simx_y + simx_z\n",
    "mean_rating_x = df.loc['X'].sum()/df.loc['X'].count()\n",
    "mean_rating_y = df.loc['Y'].sum()/df.loc['Y'].count()\n",
    "mean_rating_z = df.loc['Z'].sum()/df.loc['Z'].count()\n",
    "\n",
    "y_rating_m6 = df.loc['Y'][-1]\n",
    "z_rating_m6 = df.loc['Z'][-1]\n",
    "\n",
    "dev = simx_y * (y_rating_m6 - mean_rating_y) + (simx_z* (z_rating_m6 - mean_rating_z))\n",
    "\n",
    "dev = dev/z\n",
    "print(\"Deviation = \" + str(dev))\n",
    "r = mean_rating_x + dev\n",
    "print(\"Estimated rating for UserX-Movie6 with deviations: \"+ str(r))"
   ]
  },
  {
   "cell_type": "markdown",
   "metadata": {},
   "source": [
    "## Συμπέρασμα\n",
    "\n",
    "Πέρα απο τη διαφορά στους πιο παρόμοιους χρήστες ({Y,W} στο 1ο , {Y,Z} στο 2ο) παρατηρούμε και μια αύξηση στην εκτίμηση της βαθμολογίας του User X (Movie6).  \n",
    "Ο λογος ειναι επειδή στο 2ο παίρνουμε υπόψιν μας το πόσο απέχουν συνολικα οι βαθμολογιες των topK(U) για το Movie6 (ως προς το πληθος topk) και το πρoσθετουμε στο μεσο ορο βαθμολόγησης του Χ.  \n",
    "Με άλλα λόγια υπάρχει μια εκτίμηση στο πως βαθμολόγει ο κάθε χρήστης (π.χ Μπορει σε 2 άτομα να άρεσε η ίδια ταινία αλλα ο ένας να βαθμολογεί γενικα πιο χαμήλα τις ταινίες)"
   ]
  },
  {
   "cell_type": "code",
   "execution_count": null,
   "metadata": {},
   "outputs": [],
   "source": []
  }
 ],
 "metadata": {
  "kernelspec": {
   "display_name": "Python 3",
   "language": "python",
   "name": "python3"
  },
  "language_info": {
   "codemirror_mode": {
    "name": "ipython",
    "version": 3
   },
   "file_extension": ".py",
   "mimetype": "text/x-python",
   "name": "python",
   "nbconvert_exporter": "python",
   "pygments_lexer": "ipython3",
   "version": "3.7.6"
  }
 },
 "nbformat": 4,
 "nbformat_minor": 2
}
